{
 "cells": [
  {
   "cell_type": "markdown",
   "metadata": {
    "colab_type": "text",
    "id": "gcG9-YE8yYKM"
   },
   "source": [
    "# **Pandas** \n",
    "\n",
    "## **Descriptive Statistics**\n",
    "\n",
    "\n",
    "---\n",
    "\n",
    "\n",
    "A large number of methods collectively compute descriptive statistics and other related operations on DataFrame. \n",
    "\n",
    "Most of these are aggregations like sum(), mean(), but some of them, like sumsum(), produce an object of the same size. \n",
    "\n",
    "Generally speaking, these methods take an axis argument, just like ndarray.{sum, std, ...}, but the axis can be specified by name or integer\n",
    "\n",
    "**DataFrame − “index” (axis=0, default), “columns” (axis=1)**"
   ]
  },
  {
   "cell_type": "code",
   "execution_count": 1,
   "metadata": {
    "colab": {
     "base_uri": "https://localhost:8080/",
     "height": 238
    },
    "colab_type": "code",
    "id": "4RQKo032y1H7",
    "outputId": "9b7e6486-823f-4bf4-c844-b11a8985baa1"
   },
   "outputs": [
    {
     "name": "stdout",
     "output_type": "stream",
     "text": [
      "      Name  Age  Rating\n",
      "0      Tom   25    4.23\n",
      "1    James   26    3.24\n",
      "2    Ricky   25    3.98\n",
      "3      Vin   23    2.56\n",
      "4    Steve   30    3.20\n",
      "5    Smith   29    4.60\n",
      "6     Jack   23    3.80\n",
      "7      Lee   34    3.78\n",
      "8    David   40    2.98\n",
      "9   Gasper   30    4.80\n",
      "10  Betina   51    4.10\n",
      "11  Andres   46    3.65\n"
     ]
    }
   ],
   "source": [
    "import pandas as pd\n",
    "import numpy as np\n",
    "\n",
    "#Create a Dictionary of series\n",
    "d = {'Name':pd.Series(['Tom','James','Ricky','Vin','Steve','Smith','Jack',\n",
    "   'Lee','David','Gasper','Betina','Andres']),\n",
    "   'Age':pd.Series([25,26,25,23,30,29,23,34,40,30,51,46]),\n",
    "   'Rating':pd.Series([4.23,3.24,3.98,2.56,3.20,4.6,3.8,3.78,2.98,4.80,4.10,3.65])\n",
    "}\n",
    "\n",
    "#Create a DataFrame\n",
    "df = pd.DataFrame(d)\n",
    "print (df)"
   ]
  },
  {
   "cell_type": "markdown",
   "metadata": {
    "colab_type": "text",
    "id": "FgDMT5KUzBwL"
   },
   "source": [
    "### **sum()**\n",
    "\n",
    "Returns the sum of the values for the requested axis. By default, axis is index (axis=0)."
   ]
  },
  {
   "cell_type": "code",
   "execution_count": 2,
   "metadata": {
    "colab": {
     "base_uri": "https://localhost:8080/",
     "height": 85
    },
    "colab_type": "code",
    "id": "mCfefZunzGDZ",
    "outputId": "4e41cfde-84ac-4dad-8f80-f6c3baab012f"
   },
   "outputs": [
    {
     "name": "stdout",
     "output_type": "stream",
     "text": [
      "Name      TomJamesRickyVinSteveSmithJackLeeDavidGasperBe...\n",
      "Age                                                     382\n",
      "Rating                                                44.92\n",
      "dtype: object\n"
     ]
    }
   ],
   "source": [
    "print (df.sum())"
   ]
  },
  {
   "cell_type": "markdown",
   "metadata": {
    "colab_type": "text",
    "id": "AjyM3r4kzRQN"
   },
   "source": [
    "Each individual column is added individually (Strings are appended).\n",
    "\n",
    "### **axis=1**\n",
    "This syntax will give the output as shown below."
   ]
  },
  {
   "cell_type": "code",
   "execution_count": 3,
   "metadata": {
    "colab": {
     "base_uri": "https://localhost:8080/",
     "height": 238
    },
    "colab_type": "code",
    "id": "jbc4Dg1qzUuz",
    "outputId": "451d0048-271b-48d5-b825-5b0309d907c3"
   },
   "outputs": [
    {
     "name": "stdout",
     "output_type": "stream",
     "text": [
      "0     29.23\n",
      "1     29.24\n",
      "2     28.98\n",
      "3     25.56\n",
      "4     33.20\n",
      "5     33.60\n",
      "6     26.80\n",
      "7     37.78\n",
      "8     42.98\n",
      "9     34.80\n",
      "10    55.10\n",
      "11    49.65\n",
      "dtype: float64\n"
     ]
    }
   ],
   "source": [
    "print (df.sum(1))"
   ]
  },
  {
   "cell_type": "markdown",
   "metadata": {
    "colab_type": "text",
    "id": "IaCylNnlzpHR"
   },
   "source": [
    "### **mean()**\n",
    "Returns the average value"
   ]
  },
  {
   "cell_type": "code",
   "execution_count": 4,
   "metadata": {
    "colab": {
     "base_uri": "https://localhost:8080/",
     "height": 68
    },
    "colab_type": "code",
    "id": "ElyWxTVKzsrj",
    "outputId": "6e3a5913-ffbc-44e9-ceaf-baec59ee73ac"
   },
   "outputs": [
    {
     "name": "stdout",
     "output_type": "stream",
     "text": [
      "Age       31.833333\n",
      "Rating     3.743333\n",
      "dtype: float64\n"
     ]
    }
   ],
   "source": [
    "print (df.mean())"
   ]
  },
  {
   "cell_type": "markdown",
   "metadata": {
    "colab_type": "text",
    "id": "FLZ93ZFTz7J9"
   },
   "source": [
    "### **std()**\n",
    "Returns the Bressel standard deviation of the numerical columns."
   ]
  },
  {
   "cell_type": "code",
   "execution_count": 5,
   "metadata": {
    "colab": {
     "base_uri": "https://localhost:8080/",
     "height": 68
    },
    "colab_type": "code",
    "id": "G216dpsaz9z7",
    "outputId": "facea657-0498-43ab-b3b3-9f4834d301cb"
   },
   "outputs": [
    {
     "name": "stdout",
     "output_type": "stream",
     "text": [
      "Age       9.232682\n",
      "Rating    0.661628\n",
      "dtype: float64\n"
     ]
    }
   ],
   "source": [
    "print (df.std())"
   ]
  },
  {
   "cell_type": "markdown",
   "metadata": {
    "colab_type": "text",
    "id": "gfWgSUPS0IQm"
   },
   "source": [
    "### **Functions & Description**\n",
    "Let us now understand the functions under Descriptive Statistics in Python Pandas. \n",
    "\n",
    "The following table list down the important functions −\n",
    "\n",
    "Sr.No.\t| Function |\tDescription\n",
    ":---|:----|:----\n",
    "1 |\tcount() |\tNumber of non-null observations\n",
    "2 |\tsum() |\tSum of values\n",
    "3 |\tmean() |\tMean of Values\n",
    "4 |\tmedian() |\tMedian of Values\n",
    "5 |\tmode() |\tMode of values\n",
    "6 |\tstd() |\tStandard Deviation of the Values\n",
    "7 |\tmin() |\tMinimum Value\n",
    "8 |\tmax() |\tMaximum Value\n",
    "9 |\tabs() |\tAbsolute Value\n",
    "10 |\tprod() |\tProduct of Values\n",
    "11 |\tcumsum() |\tCumulative Sum\n",
    "12 |\tcumprod() |\tCumulative Product\n",
    "\n",
    "**Note** − Since DataFrame is a Heterogeneous data structure. Generic operations don’t work with all functions.\n",
    "\n",
    "Functions like **sum(), cumsum()** work with both numeric and character (or) string data elements without any error. Though **n** practice, character aggregations are never used generally, these functions do not throw any exception.\n",
    "\n",
    "Functions like a**bs(), cumprod()** throw exception when the DataFrame contains character or string data because such operations cannot be performed."
   ]
  },
  {
   "cell_type": "markdown",
   "metadata": {
    "colab_type": "text",
    "id": "B5O-TRvP04_W"
   },
   "source": [
    "### **Summarizing Data**\n",
    "The describe() function computes a summary of statistics pertaining to the DataFrame columns."
   ]
  },
  {
   "cell_type": "code",
   "execution_count": 6,
   "metadata": {
    "colab": {
     "base_uri": "https://localhost:8080/",
     "height": 170
    },
    "colab_type": "code",
    "id": "jt7WeENX1AZi",
    "outputId": "2ea1aa7b-e6e8-411d-be3e-4390913a0ee7"
   },
   "outputs": [
    {
     "name": "stdout",
     "output_type": "stream",
     "text": [
      "             Age     Rating\n",
      "count  12.000000  12.000000\n",
      "mean   31.833333   3.743333\n",
      "std     9.232682   0.661628\n",
      "min    23.000000   2.560000\n",
      "25%    25.000000   3.230000\n",
      "50%    29.500000   3.790000\n",
      "75%    35.500000   4.132500\n",
      "max    51.000000   4.800000\n"
     ]
    }
   ],
   "source": [
    "print (df.describe())"
   ]
  },
  {
   "cell_type": "markdown",
   "metadata": {
    "colab_type": "text",
    "id": "YdlEBotu1HGm"
   },
   "source": [
    "This function gives the **mean**, **std** and **IQR** values. \n",
    "\n",
    "And, function excludes the character columns and given summary about numeric columns.\n",
    "\n",
    " **'include'** is the argument which is used to pass necessary information regarding what columns need to be considered for summarizing. \n",
    " \n",
    "Takes the list of values; by default, 'number'.\n",
    "\n",
    "* **object** − Summarizes String columns\n",
    "* **number** − Summarizes Numeric columns\n",
    "* all − Summarizes all columns together (Should not pass it as a list value)\n",
    "\n",
    "Now, use the following statement in the program and check the output −"
   ]
  },
  {
   "cell_type": "code",
   "execution_count": 7,
   "metadata": {
    "colab": {
     "base_uri": "https://localhost:8080/",
     "height": 102
    },
    "colab_type": "code",
    "id": "DLhltSkE1YAW",
    "outputId": "a450c678-ee61-4456-e310-d43c2028ebb1"
   },
   "outputs": [
    {
     "name": "stdout",
     "output_type": "stream",
     "text": [
      "         Name\n",
      "count      12\n",
      "unique     12\n",
      "top     David\n",
      "freq        1\n"
     ]
    }
   ],
   "source": [
    "print (df.describe(include=['object']))"
   ]
  },
  {
   "cell_type": "code",
   "execution_count": 8,
   "metadata": {
    "colab": {
     "base_uri": "https://localhost:8080/",
     "height": 221
    },
    "colab_type": "code",
    "id": "cjCloxwj1gAm",
    "outputId": "b5fd3ef9-1537-4b97-e11c-955e6aa85042"
   },
   "outputs": [
    {
     "name": "stdout",
     "output_type": "stream",
     "text": [
      "         Name        Age     Rating\n",
      "count      12  12.000000  12.000000\n",
      "unique     12        NaN        NaN\n",
      "top     David        NaN        NaN\n",
      "freq        1        NaN        NaN\n",
      "mean      NaN  31.833333   3.743333\n",
      "std       NaN   9.232682   0.661628\n",
      "min       NaN  23.000000   2.560000\n",
      "25%       NaN  25.000000   3.230000\n",
      "50%       NaN  29.500000   3.790000\n",
      "75%       NaN  35.500000   4.132500\n",
      "max       NaN  51.000000   4.800000\n"
     ]
    }
   ],
   "source": [
    "print (df. describe(include='all'))"
   ]
  },
  {
   "cell_type": "markdown",
   "metadata": {
    "colab_type": "text",
    "id": "1rjPp5Ei2kyx"
   },
   "source": [
    "\n",
    "### **Reindexing**\n",
    "---\n",
    "Reindexing changes the row labels and column labels of a DataFrame. To reindex means to conform the data to match a given set of labels along a particular axis.\n",
    "\n",
    "Multiple operations can be accomplished through indexing like −\n",
    "\n",
    "* Reorder the existing data to match a new set of labels.\n",
    "\n",
    "* Insert missing value (NA) markers in label locations where no data for the label existed.\n"
   ]
  },
  {
   "cell_type": "code",
   "execution_count": 9,
   "metadata": {
    "colab": {
     "base_uri": "https://localhost:8080/",
     "height": 85
    },
    "colab_type": "code",
    "id": "gTew-KVU2xqO",
    "outputId": "0431cce3-59c3-4b7f-d16f-3c3fbf34334e"
   },
   "outputs": [
    {
     "name": "stdout",
     "output_type": "stream",
     "text": [
      "           A     C   B\n",
      "0 2016-01-01  High NaN\n",
      "2 2016-01-03  High NaN\n",
      "5 2016-01-06   Low NaN\n"
     ]
    }
   ],
   "source": [
    "import pandas as pd\n",
    "import numpy as np\n",
    "\n",
    "N=20\n",
    "\n",
    "df = pd.DataFrame({\n",
    "   'A': pd.date_range(start='2016-01-01',periods=N,freq='D'),\n",
    "   'x': np.linspace(0,stop=N-1,num=N),\n",
    "   'y': np.random.rand(N),\n",
    "   'C': np.random.choice(['Low','Medium','High'],N).tolist(),\n",
    "   'D': np.random.normal(100, 10, size=(N)).tolist()\n",
    "})\n",
    "\n",
    "#reindex the DataFrame\n",
    "df_reindexed = df.reindex(index=[0,2,5], columns=['A', 'C', 'B'])\n",
    "\n",
    "print (df_reindexed)"
   ]
  },
  {
   "cell_type": "markdown",
   "metadata": {
    "colab_type": "text",
    "id": "PCLrmTM624Me"
   },
   "source": [
    "**Reindex to Align with Other Objects**\n",
    "\n",
    "You may wish to take an object and reindex its axes to be labeled the same as another object. Consider the following example to understand the same."
   ]
  },
  {
   "cell_type": "code",
   "execution_count": 10,
   "metadata": {
    "colab": {
     "base_uri": "https://localhost:8080/",
     "height": 153
    },
    "colab_type": "code",
    "id": "aLGjm6JY29S6",
    "outputId": "bee9bad0-7d01-4fd8-e562-022882b2e8d7"
   },
   "outputs": [
    {
     "name": "stdout",
     "output_type": "stream",
     "text": [
      "       col1      col2      col3\n",
      "0  0.755292  0.610091 -0.162045\n",
      "1 -0.254909 -0.721426 -1.729583\n",
      "2 -0.067855 -0.325729  1.418333\n",
      "3  1.636342 -0.511461  1.151390\n",
      "4  1.956186  1.381731  1.610746\n",
      "5 -1.382971  0.349844 -0.778474\n",
      "6 -1.520281  0.797153  0.380340\n"
     ]
    }
   ],
   "source": [
    "import pandas as pd\n",
    "import numpy as np\n",
    "\n",
    "df1 = pd.DataFrame(np.random.randn(10,3),columns=['col1','col2','col3'])\n",
    "df2 = pd.DataFrame(np.random.randn(7,3),columns=['col1','col2','col3'])\n",
    "\n",
    "df1 = df1.reindex_like(df2)\n",
    "print (df1)"
   ]
  },
  {
   "cell_type": "markdown",
   "metadata": {
    "colab_type": "text",
    "id": "TCcmACL43DhW"
   },
   "source": [
    "**Note −** Here, the df1 DataFrame is altered and reindexed like df2. The column names should be matched or else NAN will be added for the entire column label.\n",
    "\n",
    "**Filling while ReIndexing**\n",
    "\n",
    "**reindex()** takes an optional parameter method which is a filling method with values as follows −\n",
    "\n",
    "* pad/ffill − Fill values forward\n",
    "\n",
    "* bfill/backfill − Fill values backward\n",
    "\n",
    "* nearest − Fill from the nearest index values"
   ]
  },
  {
   "cell_type": "code",
   "execution_count": 11,
   "metadata": {
    "colab": {
     "base_uri": "https://localhost:8080/",
     "height": 272
    },
    "colab_type": "code",
    "id": "4RWnqIZN3P5s",
    "outputId": "78fcac7d-1d77-4ebc-dd32-804f9599504b"
   },
   "outputs": [
    {
     "name": "stdout",
     "output_type": "stream",
     "text": [
      "       col1      col2      col3\n",
      "0  1.899573 -1.150856 -1.089667\n",
      "1 -1.081411  0.024662  0.130794\n",
      "2       NaN       NaN       NaN\n",
      "3       NaN       NaN       NaN\n",
      "4       NaN       NaN       NaN\n",
      "5       NaN       NaN       NaN\n",
      "Data Frame with Forward Fill:\n",
      "       col1      col2      col3\n",
      "0  1.899573 -1.150856 -1.089667\n",
      "1 -1.081411  0.024662  0.130794\n",
      "2 -1.081411  0.024662  0.130794\n",
      "3 -1.081411  0.024662  0.130794\n",
      "4 -1.081411  0.024662  0.130794\n",
      "5 -1.081411  0.024662  0.130794\n"
     ]
    }
   ],
   "source": [
    "import pandas as pd\n",
    "import numpy as np\n",
    "\n",
    "df1 = pd.DataFrame(np.random.randn(6,3),columns=['col1','col2','col3'])\n",
    "df2 = pd.DataFrame(np.random.randn(2,3),columns=['col1','col2','col3'])\n",
    "\n",
    "# Padding NAN's\n",
    "print (df2.reindex_like(df1))\n",
    "\n",
    "# Now Fill the NAN's with preceding Values\n",
    "print (\"Data Frame with Forward Fill:\")\n",
    "print (df2.reindex_like(df1,method='ffill'))"
   ]
  },
  {
   "cell_type": "markdown",
   "metadata": {
    "colab_type": "text",
    "id": "O0uRRY5Z3gV5"
   },
   "source": [
    "**Note** − The last four rows are padded.\n",
    "\n",
    "**Limits on Filling while Reindexing**\n",
    "\n",
    "The limit argument provides additional control over filling while reindexing. Limit specifies the maximum count of consecutive matches. "
   ]
  },
  {
   "cell_type": "code",
   "execution_count": 12,
   "metadata": {
    "colab": {
     "base_uri": "https://localhost:8080/",
     "height": 272
    },
    "colab_type": "code",
    "id": "cNv_h3N23nka",
    "outputId": "0e89a367-8129-4aa9-c0d1-1a74434661b9"
   },
   "outputs": [
    {
     "name": "stdout",
     "output_type": "stream",
     "text": [
      "       col1      col2      col3\n",
      "0  0.295047 -1.310767 -1.217028\n",
      "1  0.157895  1.152322  1.533900\n",
      "2       NaN       NaN       NaN\n",
      "3       NaN       NaN       NaN\n",
      "4       NaN       NaN       NaN\n",
      "5       NaN       NaN       NaN\n",
      "Data Frame with Forward Fill limiting to 1:\n",
      "       col1      col2      col3\n",
      "0  0.295047 -1.310767 -1.217028\n",
      "1  0.157895  1.152322  1.533900\n",
      "2  0.157895  1.152322  1.533900\n",
      "3       NaN       NaN       NaN\n",
      "4       NaN       NaN       NaN\n",
      "5       NaN       NaN       NaN\n"
     ]
    }
   ],
   "source": [
    "import pandas as pd\n",
    "import numpy as np\n",
    " \n",
    "df1 = pd.DataFrame(np.random.randn(6,3),columns=['col1','col2','col3'])\n",
    "df2 = pd.DataFrame(np.random.randn(2,3),columns=['col1','col2','col3'])\n",
    "\n",
    "# Padding NAN's\n",
    "print (df2.reindex_like(df1))\n",
    "\n",
    "# Now Fill the NAN's with preceding Values\n",
    "print (\"Data Frame with Forward Fill limiting to 1:\")\n",
    "print (df2.reindex_like(df1,method='ffill',limit=1))"
   ]
  },
  {
   "cell_type": "markdown",
   "metadata": {
    "colab_type": "text",
    "id": "Hdsvw-Da3xGG"
   },
   "source": [
    "**Note** − Observe, only the 7th row is filled by the preceding 6th row. Then, the rows are left as they are.\n",
    "\n",
    "**Renaming**\n",
    "\n",
    "The rename() method allows you to relabel an axis based on some mapping (a dict or Series) or an arbitrary function.\n",
    "\n"
   ]
  },
  {
   "cell_type": "code",
   "execution_count": 13,
   "metadata": {
    "colab": {
     "base_uri": "https://localhost:8080/",
     "height": 272
    },
    "colab_type": "code",
    "id": "6xDm1auC35VH",
    "outputId": "8715c1a7-5ee6-45a6-99a7-27a761c20f95"
   },
   "outputs": [
    {
     "name": "stdout",
     "output_type": "stream",
     "text": [
      "       col1      col2      col3\n",
      "0 -0.404376 -0.765257 -1.253258\n",
      "1 -0.020557 -0.842418  0.325989\n",
      "2  0.922984 -0.158237  0.177725\n",
      "3  0.490923 -2.064463  1.161358\n",
      "4  0.891538  0.455013  0.126642\n",
      "5 -0.433099  0.619588  0.663681\n",
      "After renaming the rows and columns:\n",
      "              c1        c2      col3\n",
      "apple  -0.404376 -0.765257 -1.253258\n",
      "banana -0.020557 -0.842418  0.325989\n",
      "durian  0.922984 -0.158237  0.177725\n",
      "3       0.490923 -2.064463  1.161358\n",
      "4       0.891538  0.455013  0.126642\n",
      "5      -0.433099  0.619588  0.663681\n"
     ]
    }
   ],
   "source": [
    "import pandas as pd\n",
    "import numpy as np\n",
    "\n",
    "df1 = pd.DataFrame(np.random.randn(6,3),columns=['col1','col2','col3'])\n",
    "print (df1)\n",
    "\n",
    "print (\"After renaming the rows and columns:\")\n",
    "print (df1.rename(columns={'col1' : 'c1', 'col2' : 'c2'},\n",
    "index = {0 : 'apple', 1 : 'banana', 2 : 'durian'}))"
   ]
  },
  {
   "cell_type": "markdown",
   "metadata": {
    "colab_type": "text",
    "id": "15-lxKBm4A8-"
   },
   "source": [
    "The rename() method provides an **inplace** named parameter, which by default is False and copies the underlying data. Pass inplace=True to rename the data in place."
   ]
  },
  {
   "cell_type": "markdown",
   "metadata": {
    "colab_type": "text",
    "id": "qxUCB--V5Eis"
   },
   "source": [
    "## **Iteration**\n",
    "\n",
    "\n",
    "---\n",
    "\n",
    "The behavior of basic iteration over Pandas objects depends on the type. \n",
    "\n",
    "When iterating over a Series, it is regarded as array-like, and basic iteration produces the values. \n",
    "\n",
    "Other data structures, like DataFrame and Panel, follow the **dict-like** convention of iterating over the **keys** of the objects.\n",
    "\n",
    "In short, basic iteration (for i in object) produces −\n",
    "\n",
    "* Series − values\n",
    "\n",
    "* DataFrame − column labels\n",
    "\n",
    "* Panel − item labels\n",
    "\n",
    "**Iterating a DataFrame**\n",
    "\n",
    "Iterating a DataFrame gives column names. "
   ]
  },
  {
   "cell_type": "code",
   "execution_count": 14,
   "metadata": {
    "colab": {
     "base_uri": "https://localhost:8080/",
     "height": 102
    },
    "colab_type": "code",
    "id": "uoMJiUfq4GM4",
    "outputId": "98eb206b-7ffd-4618-bd88-3ec9fb7df799"
   },
   "outputs": [
    {
     "name": "stdout",
     "output_type": "stream",
     "text": [
      "A\n",
      "x\n",
      "y\n",
      "C\n",
      "D\n"
     ]
    }
   ],
   "source": [
    "import pandas as pd\n",
    "import numpy as np\n",
    " \n",
    "N=20\n",
    "df = pd.DataFrame({\n",
    "   'A': pd.date_range(start='2016-01-01',periods=N,freq='D'),\n",
    "   'x': np.linspace(0,stop=N-1,num=N),\n",
    "   'y': np.random.rand(N),\n",
    "   'C': np.random.choice(['Low','Medium','High'],N).tolist(),\n",
    "   'D': np.random.normal(100, 10, size=(N)).tolist()\n",
    "   })\n",
    "\n",
    "\n",
    "for col in df:\n",
    "   print (col) # Prints column names"
   ]
  },
  {
   "cell_type": "markdown",
   "metadata": {
    "colab_type": "text",
    "id": "6HJy2H_b52lz"
   },
   "source": [
    "To iterate over the rows of the DataFrame, we can use the following functions −\n",
    "\n",
    "* **iteritems()** − to iterate over the (key,value) pairs\n",
    "\n",
    "* **iterrows()** − iterate over the rows as (index,series) pairs\n",
    "\n",
    "* **itertuples()** − iterate over the rows as namedtuples\n",
    "\n",
    "**iteritems()**\n",
    "\n",
    "Iterates over each column as key, value pair with label as key and column value as a Series object."
   ]
  },
  {
   "cell_type": "code",
   "execution_count": 15,
   "metadata": {
    "colab": {
     "base_uri": "https://localhost:8080/",
     "height": 272
    },
    "colab_type": "code",
    "id": "L4VAbIQn5-1-",
    "outputId": "86bfa48f-5388-437b-fb2f-3cc793ae99b9"
   },
   "outputs": [
    {
     "name": "stdout",
     "output_type": "stream",
     "text": [
      "col1 0   -0.190221\n",
      "1    0.588599\n",
      "2    0.361585\n",
      "3    1.092635\n",
      "Name: col1, dtype: float64\n",
      "col2 0    0.762831\n",
      "1   -0.827949\n",
      "2   -0.260937\n",
      "3    0.645784\n",
      "Name: col2, dtype: float64\n",
      "col3 0    2.074154\n",
      "1   -1.514478\n",
      "2   -2.790059\n",
      "3    0.973713\n",
      "Name: col3, dtype: float64\n"
     ]
    }
   ],
   "source": [
    "import pandas as pd\n",
    "import numpy as np\n",
    " \n",
    "df = pd.DataFrame(np.random.randn(4,3),columns=['col1','col2','col3'])\n",
    "for key,value in df.iteritems():\n",
    "   print (key,value)"
   ]
  },
  {
   "cell_type": "markdown",
   "metadata": {
    "colab_type": "text",
    "id": "xa8HJqGzMo6H"
   },
   "source": [
    "Observe, each column is iterated separately as a key-value pair in a Series.\n",
    "\n",
    "**iterrows()**\n",
    "\n",
    "iterrows() returns the iterator yielding each index value along with a series containing the data in each row."
   ]
  },
  {
   "cell_type": "code",
   "execution_count": 16,
   "metadata": {
    "colab": {
     "base_uri": "https://localhost:8080/",
     "height": 289
    },
    "colab_type": "code",
    "id": "7KMUP7hhMr2f",
    "outputId": "5d7448ca-06b6-495d-d32f-d434173d4968"
   },
   "outputs": [
    {
     "name": "stdout",
     "output_type": "stream",
     "text": [
      "0 col1   -0.190221\n",
      "col2    0.762831\n",
      "col3    2.074154\n",
      "Name: 0, dtype: float64\n",
      "1 col1    0.588599\n",
      "col2   -0.827949\n",
      "col3   -1.514478\n",
      "Name: 1, dtype: float64\n",
      "2 col1    0.361585\n",
      "col2   -0.260937\n",
      "col3   -2.790059\n",
      "Name: 2, dtype: float64\n",
      "3 col1    1.092635\n",
      "col2    0.645784\n",
      "col3    0.973713\n",
      "Name: 3, dtype: float64\n"
     ]
    }
   ],
   "source": [
    "for row_index,row in df.iterrows():\n",
    "   print (row_index,row)"
   ]
  },
  {
   "cell_type": "markdown",
   "metadata": {
    "colab_type": "text",
    "id": "-Jo-u-ODM5LB"
   },
   "source": [
    "**Note** − Because iterrows() iterate over the rows, it doesn't preserve the data type across the row. 0,1,2 are the row indices and col1,col2,col3 are column indices.\n",
    "\n",
    "**itertuples()**\n",
    "\n",
    "itertuples() method will return an iterator yielding a named tuple for each row in the DataFrame. The first element of the tuple will be the row’s corresponding index value, while the remaining values are the row values."
   ]
  },
  {
   "cell_type": "code",
   "execution_count": 17,
   "metadata": {
    "colab": {
     "base_uri": "https://localhost:8080/",
     "height": 85
    },
    "colab_type": "code",
    "id": "OMuWgLcgM_lx",
    "outputId": "638c124b-231a-4ed5-841f-56575f43c164"
   },
   "outputs": [
    {
     "name": "stdout",
     "output_type": "stream",
     "text": [
      "Pandas(Index=0, col1=-0.19022121789420127, col2=0.7628306029701205, col3=2.0741543270148908)\n",
      "Pandas(Index=1, col1=0.5885987383890395, col2=-0.8279488425319633, col3=-1.5144777813864088)\n",
      "Pandas(Index=2, col1=0.36158481600851333, col2=-0.2609373372190318, col3=-2.7900590142592536)\n",
      "Pandas(Index=3, col1=1.0926351840925779, col2=0.6457844091370067, col3=0.9737126650969048)\n"
     ]
    }
   ],
   "source": [
    "for row in df.itertuples():\n",
    "    print (row)"
   ]
  },
  {
   "cell_type": "markdown",
   "metadata": {
    "colab_type": "text",
    "id": "tkeOw95pNIYp"
   },
   "source": [
    "**Note** − Do not try to modify any object while iterating. Iterating is meant for reading and the iterator returns a copy of the original object (a view), thus the changes will not reflect on the original object."
   ]
  },
  {
   "cell_type": "code",
   "execution_count": 18,
   "metadata": {
    "colab": {
     "base_uri": "https://localhost:8080/",
     "height": 102
    },
    "colab_type": "code",
    "id": "iQqEsFjKNLwy",
    "outputId": "01e79b79-bb4d-48bc-ea9b-5a629a2e7852"
   },
   "outputs": [
    {
     "name": "stdout",
     "output_type": "stream",
     "text": [
      "       col1      col2      col3\n",
      "0 -0.190221  0.762831  2.074154\n",
      "1  0.588599 -0.827949 -1.514478\n",
      "2  0.361585 -0.260937 -2.790059\n",
      "3  1.092635  0.645784  0.973713\n"
     ]
    }
   ],
   "source": [
    "for index, row in df.iterrows():\n",
    "   row['a'] = 10\n",
    "print (df)"
   ]
  },
  {
   "cell_type": "markdown",
   "metadata": {
    "colab_type": "text",
    "id": "0drs6l-ZNUk6"
   },
   "source": [
    "## **Sorting**\n",
    "\n",
    "\n",
    "---\n",
    "\n",
    "There are two kinds of sorting available in Pandas. They are −\n",
    "\n",
    "* By label\n",
    "* By Actual Value\n",
    "\n",
    "Let us consider an example with an output."
   ]
  },
  {
   "cell_type": "code",
   "execution_count": 19,
   "metadata": {
    "colab": {
     "base_uri": "https://localhost:8080/",
     "height": 204
    },
    "colab_type": "code",
    "id": "tjgl4XhbNghr",
    "outputId": "4481a5bd-7288-4e66-f8aa-db6f17e12cc4"
   },
   "outputs": [
    {
     "name": "stdout",
     "output_type": "stream",
     "text": [
      "       col2      col1\n",
      "1  1.056830 -1.176179\n",
      "4  1.071031 -1.020956\n",
      "6  0.518520  0.324449\n",
      "2 -1.742423  0.060052\n",
      "3  0.834464 -1.146776\n",
      "5  0.179526 -0.758548\n",
      "9 -2.223677 -0.706792\n",
      "8  0.066206  1.132732\n",
      "0 -0.905243 -0.349514\n",
      "7  0.261670  0.093896\n"
     ]
    }
   ],
   "source": [
    "unsorted_df=pd.DataFrame(np.random.randn(10,2),index=[1,4,6,2,3,5,9,8,0,7],columns=['col2','col1'])\n",
    "print (unsorted_df)"
   ]
  },
  {
   "cell_type": "markdown",
   "metadata": {
    "colab_type": "text",
    "id": "NfwbmQALNsKn"
   },
   "source": [
    "In unsorted_df, the labels and the values are unsorted. Let us see how these can be sorted.\n",
    "\n",
    "**By Label**\n",
    "\n",
    "Using the sort_index() method, by passing the axis arguments and the order of sorting, DataFrame can be sorted. By default, sorting is done on row labels in ascending order."
   ]
  },
  {
   "cell_type": "code",
   "execution_count": 20,
   "metadata": {
    "colab": {
     "base_uri": "https://localhost:8080/",
     "height": 204
    },
    "colab_type": "code",
    "id": "Zna59XasNwwf",
    "outputId": "eb4c152c-2d62-446f-c913-fa1d60a0986d"
   },
   "outputs": [
    {
     "name": "stdout",
     "output_type": "stream",
     "text": [
      "       col2      col1\n",
      "0 -0.905243 -0.349514\n",
      "1  1.056830 -1.176179\n",
      "2 -1.742423  0.060052\n",
      "3  0.834464 -1.146776\n",
      "4  1.071031 -1.020956\n",
      "5  0.179526 -0.758548\n",
      "6  0.518520  0.324449\n",
      "7  0.261670  0.093896\n",
      "8  0.066206  1.132732\n",
      "9 -2.223677 -0.706792\n"
     ]
    }
   ],
   "source": [
    "sorted_df=unsorted_df.sort_index()\n",
    "print (sorted_df)"
   ]
  },
  {
   "cell_type": "markdown",
   "metadata": {
    "colab_type": "text",
    "id": "g_gpCzG0N8Do"
   },
   "source": [
    "**Order of Sorting**\n",
    "\n",
    "By passing the Boolean value to ascending parameter, the order of the sorting can be controlled. Let us consider the following example to understand the same."
   ]
  },
  {
   "cell_type": "code",
   "execution_count": 21,
   "metadata": {
    "colab": {
     "base_uri": "https://localhost:8080/",
     "height": 204
    },
    "colab_type": "code",
    "id": "UJUVPsQ4N-0l",
    "outputId": "22fdb044-85e0-41cf-a6e2-76e258f1a68e"
   },
   "outputs": [
    {
     "name": "stdout",
     "output_type": "stream",
     "text": [
      "       col2      col1\n",
      "9 -2.223677 -0.706792\n",
      "8  0.066206  1.132732\n",
      "7  0.261670  0.093896\n",
      "6  0.518520  0.324449\n",
      "5  0.179526 -0.758548\n",
      "4  1.071031 -1.020956\n",
      "3  0.834464 -1.146776\n",
      "2 -1.742423  0.060052\n",
      "1  1.056830 -1.176179\n",
      "0 -0.905243 -0.349514\n"
     ]
    }
   ],
   "source": [
    "sorted_df = unsorted_df.sort_index(ascending=False)\n",
    "print (sorted_df)"
   ]
  },
  {
   "cell_type": "markdown",
   "metadata": {
    "colab_type": "text",
    "id": "F8iQySZos1TL"
   },
   "source": [
    "**Sort the Columns**\n",
    "\n",
    "By passing the axis argument with a value 0 or 1, the sorting can be done on the column labels. By default, axis=0, sort by row. "
   ]
  },
  {
   "cell_type": "code",
   "execution_count": 22,
   "metadata": {
    "colab": {
     "base_uri": "https://localhost:8080/",
     "height": 204
    },
    "colab_type": "code",
    "id": "Pk_VP3dus6nE",
    "outputId": "f3902b8a-563c-4b30-b066-72293d1451eb"
   },
   "outputs": [
    {
     "name": "stdout",
     "output_type": "stream",
     "text": [
      "       col1      col2\n",
      "1 -1.176179  1.056830\n",
      "4 -1.020956  1.071031\n",
      "6  0.324449  0.518520\n",
      "2  0.060052 -1.742423\n",
      "3 -1.146776  0.834464\n",
      "5 -0.758548  0.179526\n",
      "9 -0.706792 -2.223677\n",
      "8  1.132732  0.066206\n",
      "0 -0.349514 -0.905243\n",
      "7  0.093896  0.261670\n"
     ]
    }
   ],
   "source": [
    "sorted_df=unsorted_df.sort_index(axis=1)\n",
    "\n",
    "print (sorted_df)"
   ]
  },
  {
   "cell_type": "markdown",
   "metadata": {
    "colab_type": "text",
    "id": "ZZFlOWDutP4A"
   },
   "source": [
    "**By Value**\n",
    "\n",
    "Like index sorting, **sort_values()** is the method for sorting by values. \n",
    "\n",
    "It accepts a '**by**' argument which will use the column name of the DataFrame with which the values are to be sorted."
   ]
  },
  {
   "cell_type": "code",
   "execution_count": 24,
   "metadata": {
    "colab": {
     "base_uri": "https://localhost:8080/",
     "height": 102
    },
    "colab_type": "code",
    "id": "ehSKuw3WtWWv",
    "outputId": "12218160-2fb9-49af-8461-a7d5df6f1d7f"
   },
   "outputs": [
    {
     "name": "stdout",
     "output_type": "stream",
     "text": [
      "   col1  col2\n",
      "1     1     3\n",
      "2     1     2\n",
      "3     1     4\n",
      "0     2     1\n"
     ]
    }
   ],
   "source": [
    "unsorted_df = pd.DataFrame({'col1':[2,1,1,1],'col2':[1,3,2,4]})\n",
    "sorted_df = unsorted_df.sort_values(by='col1')\n",
    "\n",
    "print (sorted_df)"
   ]
  },
  {
   "cell_type": "markdown",
   "metadata": {
    "colab_type": "text",
    "id": "L107tnzStn1q"
   },
   "source": [
    "Observe, **col1** values are sorted and the respective **col2** value and row index will alter along with col1. Thus, they look unsorted.\n",
    "\n",
    "'**by**' argument takes a list of column values."
   ]
  },
  {
   "cell_type": "code",
   "execution_count": 25,
   "metadata": {
    "colab": {
     "base_uri": "https://localhost:8080/",
     "height": 102
    },
    "colab_type": "code",
    "id": "RDLAVS-AtsE9",
    "outputId": "6ee58294-8c3c-4bf8-c86d-78407f1de385"
   },
   "outputs": [
    {
     "name": "stdout",
     "output_type": "stream",
     "text": [
      "   col1  col2\n",
      "2     1     2\n",
      "1     1     3\n",
      "3     1     4\n",
      "0     2     1\n"
     ]
    }
   ],
   "source": [
    "sorted_df = unsorted_df.sort_values(by=['col1','col2'])\n",
    "\n",
    "print (sorted_df)"
   ]
  },
  {
   "cell_type": "markdown",
   "metadata": {
    "colab_type": "text",
    "id": "sQM04lOMt0_A"
   },
   "source": [
    "**Sorting Algorithm**\n",
    "\n",
    "sort_values() provides a provision to choose the algorithm from mergesort, heapsort and quicksort. \n",
    "\n",
    "Mergesort is the only stable algorithm."
   ]
  },
  {
   "cell_type": "code",
   "execution_count": 26,
   "metadata": {
    "colab": {
     "base_uri": "https://localhost:8080/",
     "height": 102
    },
    "colab_type": "code",
    "id": "gKRotD8bt6dd",
    "outputId": "9c0129bb-bfa2-4aba-a5c0-0bff08f07f12"
   },
   "outputs": [
    {
     "name": "stdout",
     "output_type": "stream",
     "text": [
      "   col1  col2\n",
      "1     1     3\n",
      "2     1     2\n",
      "3     1     4\n",
      "0     2     1\n"
     ]
    }
   ],
   "source": [
    "unsorted_df = pd.DataFrame({'col1':[2,1,1,1],'col2':[1,3,2,4]})\n",
    "sorted_df = unsorted_df.sort_values(by='col1' ,kind='mergesort')\n",
    "\n",
    "print (sorted_df)"
   ]
  },
  {
   "cell_type": "markdown",
   "metadata": {
    "colab_type": "text",
    "id": "kDC6uMQsuHqk"
   },
   "source": [
    "### **Working with Text Data**\n",
    "\n",
    "---\n",
    "\n",
    "Pandas provides a set of string functions which make it easy to operate on string data. \n",
    "\n",
    "Most importantly, these functions ignore (or exclude) missing/NaN values.\n",
    "\n",
    "Almost, all of these methods work with Python string functions (refer: https://docs.python.org/3/library/stdtypes.html#string-methods). \n",
    "\n",
    "So, convert the Series Object to String Object and then perform the operation."
   ]
  },
  {
   "cell_type": "markdown",
   "metadata": {
    "colab_type": "text",
    "id": "TDZ9hcwxupCH"
   },
   "source": [
    "Sr.No\t| Function |  Description\n",
    ":------|:------|:------\n",
    "1\t\t| lower()\t| Converts strings in the Series/Index to lower case.\n",
    "2\t| upper()| Converts strings in the Series/Index to upper case.\n",
    "3\t| len()| Computes String length().\n",
    "4\t| strip()| Helps strip whitespace(including newline) from each string in the Series/index from both the sides.\n",
    "5\t| split(' ')| Splits each string with the given pattern.\n",
    "6\t| cat(sep=' ')| Concatenates the series/index elements with given separator.\n",
    "7\t| get_dummies()| Returns the DataFrame with One-Hot Encoded values.\n",
    "8\t| contains(pattern)| Returns a Boolean value True for each element if the substring contains in the element, else False.\n",
    "9\t| replace(a,b)| Replaces the value a with the value b.\n",
    "10\t| repeat(value)| Repeats each element with specified number of times.\n",
    "11\t| count(pattern)| Returns count of appearance of pattern in each element.\n",
    "12\t| startswith(pattern)| Returns true if the element in the Series/Index starts with the pattern.\n",
    "13\t| endswith(pattern)| Returns true if the element in the Series/Index ends with the pattern.\n",
    "14\t| find(pattern)| Returns the first position of the first occurrence of the pattern.\n",
    "15\t| findall(pattern)| Returns a list of all occurrence of the pattern.\n",
    "16\t| swapcase| Swaps the case lower/upper.\n",
    "17\t| islower()| Checks whether all characters in each string in the Series/Index in lower case or not. Returns Boolean\n",
    "18\t| isupper()| Checks whether all characters in each string in the Series/Index in upper case or not. Returns Boolean.\n",
    "19\t| isnumeric()| Checks whether all characters in each string in the Series/Index are numeric. Returns Boolean.\n",
    "\n",
    "Let us now create a Series and see how all the above functions work."
   ]
  },
  {
   "cell_type": "code",
   "execution_count": 27,
   "metadata": {
    "colab": {
     "base_uri": "https://localhost:8080/",
     "height": 153
    },
    "colab_type": "code",
    "id": "TA_q7e9-vgF2",
    "outputId": "1e92fdd7-9246-4ed9-aac4-a66f38b9cc03"
   },
   "outputs": [
    {
     "name": "stdout",
     "output_type": "stream",
     "text": [
      "0             Tom\n",
      "1    William Rick\n",
      "2            John\n",
      "3         Alber@t\n",
      "4             NaN\n",
      "5            1234\n",
      "6      SteveSmith\n",
      "dtype: object\n"
     ]
    }
   ],
   "source": [
    "s = pd.Series(['Tom', 'William Rick', 'John', 'Alber@t', np.nan, '1234','SteveSmith'])\n",
    "\n",
    "print (s)"
   ]
  },
  {
   "cell_type": "markdown",
   "metadata": {
    "colab_type": "text",
    "id": "IyoUDQSH0DXm"
   },
   "source": [
    "**lower()**"
   ]
  },
  {
   "cell_type": "code",
   "execution_count": 28,
   "metadata": {
    "colab": {
     "base_uri": "https://localhost:8080/",
     "height": 153
    },
    "colab_type": "code",
    "id": "M2bEToQo0BSL",
    "outputId": "ccfc0354-0168-4a7f-b85b-1fa3258152bf"
   },
   "outputs": [
    {
     "name": "stdout",
     "output_type": "stream",
     "text": [
      "0             tom\n",
      "1    william rick\n",
      "2            john\n",
      "3         alber@t\n",
      "4             NaN\n",
      "5            1234\n",
      "6      stevesmith\n",
      "dtype: object\n"
     ]
    }
   ],
   "source": [
    "print (s.str.lower())"
   ]
  },
  {
   "cell_type": "markdown",
   "metadata": {
    "colab_type": "text",
    "id": "mdn_ckaL0KXe"
   },
   "source": [
    "**upper()**"
   ]
  },
  {
   "cell_type": "code",
   "execution_count": 29,
   "metadata": {
    "colab": {
     "base_uri": "https://localhost:8080/",
     "height": 153
    },
    "colab_type": "code",
    "id": "dSmi7-vT0Lly",
    "outputId": "cb55f584-f998-4eec-8b70-dfd9c0003058"
   },
   "outputs": [
    {
     "name": "stdout",
     "output_type": "stream",
     "text": [
      "0             TOM\n",
      "1    WILLIAM RICK\n",
      "2            JOHN\n",
      "3         ALBER@T\n",
      "4             NaN\n",
      "5            1234\n",
      "6      STEVESMITH\n",
      "dtype: object\n"
     ]
    }
   ],
   "source": [
    "print (s.str.upper())"
   ]
  },
  {
   "cell_type": "markdown",
   "metadata": {
    "colab_type": "text",
    "id": "wUWZPk7B0SP8"
   },
   "source": [
    "**len()**"
   ]
  },
  {
   "cell_type": "code",
   "execution_count": 30,
   "metadata": {
    "colab": {
     "base_uri": "https://localhost:8080/",
     "height": 153
    },
    "colab_type": "code",
    "id": "SqjIhHqz0T0Y",
    "outputId": "b7cac421-99ff-4234-9ef7-662fefbd5445"
   },
   "outputs": [
    {
     "name": "stdout",
     "output_type": "stream",
     "text": [
      "0     3.0\n",
      "1    12.0\n",
      "2     4.0\n",
      "3     7.0\n",
      "4     NaN\n",
      "5     4.0\n",
      "6    10.0\n",
      "dtype: float64\n"
     ]
    }
   ],
   "source": [
    "print (s.str.len())"
   ]
  },
  {
   "cell_type": "markdown",
   "metadata": {
    "colab_type": "text",
    "id": "tGDyPCJi0e3t"
   },
   "source": [
    "#**Exercises** "
   ]
  },
  {
   "cell_type": "markdown",
   "metadata": {
    "colab_type": "text",
    "id": "mG5YiLy_2Ejg"
   },
   "source": [
    "1. **Write a Python program to add, subtract, multiple and divide two Pandas Series.** \n",
    "\n",
    "Sample Series: [2, 4, 6, 8, 10], [1, 3, 5, 7, 9]"
   ]
  },
  {
   "cell_type": "code",
   "execution_count": null,
   "metadata": {
    "colab": {},
    "colab_type": "code",
    "id": "D4OUC-xd2Q0v"
   },
   "outputs": [],
   "source": []
  },
  {
   "cell_type": "markdown",
   "metadata": {
    "colab_type": "text",
    "id": "9-umwkRG2RSg"
   },
   "source": [
    "2. **Write a Pandas program to sort a given Series.** \n",
    "\n",
    "*Sample Output:*\n",
    "\n",
    "Original Data Series: \n",
    "0 100\n",
    "\n",
    "1 200\n",
    "\n",
    "2 python\n",
    "\n",
    "3 300.12\n",
    "\n",
    "4 400\n",
    "\n",
    "Output Data Series:\n",
    "\n",
    "0 100\n",
    "\n",
    "1 200\n",
    "\n",
    "3 300.12\n",
    "\n",
    "4 400\n",
    "\n",
    "2 python\n"
   ]
  }
 ],
 "metadata": {
  "colab": {
   "collapsed_sections": [],
   "name": "2_Pandas.ipynb",
   "provenance": []
  },
  "kernelspec": {
   "display_name": "Python 3",
   "language": "python",
   "name": "python3"
  },
  "language_info": {
   "codemirror_mode": {
    "name": "ipython",
    "version": 3
   },
   "file_extension": ".py",
   "mimetype": "text/x-python",
   "name": "python",
   "nbconvert_exporter": "python",
   "pygments_lexer": "ipython3",
   "version": "3.7.3"
  }
 },
 "nbformat": 4,
 "nbformat_minor": 1
}
